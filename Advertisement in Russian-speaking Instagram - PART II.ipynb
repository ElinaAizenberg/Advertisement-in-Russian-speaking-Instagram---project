{
 "cells": [
  {
   "cell_type": "markdown",
   "metadata": {},
   "source": [
    "# Advertisement in russian-speaking Instagram - PART II"
   ]
  },
  {
   "cell_type": "markdown",
   "metadata": {},
   "source": [
    "Fisrt part of the project was dedicated to exploratory analysis of the database with advertisemnt reviews written by bloggers-clients. Based on the provided analysis I tried to choose ad placement according to my goal and budget.\n",
    "\n",
    "Even though we can vaguely calculate how many subscribers will come after advertisement, it would be very handy, if we could predict this number using machine learning.\n",
    "\n",
    "So, the goal of the second part of this project is to create a model and a function that can predict resulting amount of new subscribers with some level of certainity.\n",
    "\n",
    "*This time I will comment on every step with technical information that supports my decisions.*"
   ]
  },
  {
   "cell_type": "markdown",
   "metadata": {},
   "source": [
    "## 2.1 PREPARING  DATASET# 1. Import and cleaning dataset¶"
   ]
  },
  {
   "cell_type": "code",
   "execution_count": 1,
   "metadata": {},
   "outputs": [],
   "source": [
    "import pandas as pd\n",
    "import numpy as np\n",
    "import matplotlib.pyplot as plt\n",
    "import seaborn as sns\n",
    "\n",
    "from sklearn.preprocessing import StandardScaler\n",
    "from sklearn.preprocessing import RobustScaler\n",
    "from scipy import stats\n",
    "from sklearn.linear_model import Ridge\n",
    "\n",
    "from sklearn.tree import DecisionTreeRegressor\n",
    "from sklearn.metrics import mean_squared_error, r2_score\n",
    "from sklearn.preprocessing import PolynomialFeatures\n",
    "from sklearn.model_selection import train_test_split\n",
    "from sklearn.feature_selection import SelectFromModel\n",
    "from sklearn.linear_model import Lasso\n",
    "import math\n",
    "from sklearn.ensemble import RandomForestRegressor\n",
    "from sklearn.ensemble import RandomForestClassifier\n"
   ]
  },
  {
   "cell_type": "code",
   "execution_count": 2,
   "metadata": {},
   "outputs": [],
   "source": [
    "file = 'https://raw.githubusercontent.com/ElinaAizenberg/Advertisement-in-Russian-speaking-Instagram---project/main/data/easyprbot.com_reviews_2021_03_05.csv'\n",
    "table = pd.read_csv(file, header = 0, sep = ';')"
   ]
  },
  {
   "cell_type": "markdown",
   "metadata": {},
   "source": [
    "As I split the project and performed analysis/modelling separetely, I have to repeate several pre-processing steps. Although, I repeate description of these steps for those readers who skip the first part of the project."
   ]
  },
  {
   "cell_type": "code",
   "execution_count": 3,
   "metadata": {},
   "outputs": [
    {
     "data": {
      "text/html": [
       "<div>\n",
       "<style scoped>\n",
       "    .dataframe tbody tr th:only-of-type {\n",
       "        vertical-align: middle;\n",
       "    }\n",
       "\n",
       "    .dataframe tbody tr th {\n",
       "        vertical-align: top;\n",
       "    }\n",
       "\n",
       "    .dataframe thead th {\n",
       "        text-align: right;\n",
       "    }\n",
       "</style>\n",
       "<table border=\"1\" class=\"dataframe\">\n",
       "  <thead>\n",
       "    <tr style=\"text-align: right;\">\n",
       "      <th></th>\n",
       "      <th>ID</th>\n",
       "      <th>Дата рекламы</th>\n",
       "      <th>Мой аккаунт</th>\n",
       "      <th>Брали рекламу у блогера</th>\n",
       "      <th>Цена за подписчика</th>\n",
       "      <th>Приход</th>\n",
       "      <th>Цена за рекламу</th>\n",
       "      <th>Охваты из рекламы</th>\n",
       "      <th>Оценка</th>\n",
       "      <th>Формат рекламы</th>\n",
       "      <th>Темы аккаунта</th>\n",
       "      <th>Текст отзыва</th>\n",
       "    </tr>\n",
       "  </thead>\n",
       "  <tbody>\n",
       "    <tr>\n",
       "      <th>0</th>\n",
       "      <td>59</td>\n",
       "      <td>2019-07-02</td>\n",
       "      <td>masha_davay</td>\n",
       "      <td>chebotareva_e</td>\n",
       "      <td>2.0</td>\n",
       "      <td>4000</td>\n",
       "      <td>10000.0</td>\n",
       "      <td>NaN</td>\n",
       "      <td>10</td>\n",
       "      <td>Сторис</td>\n",
       "      <td>Жизнь заграницей, Лайфстайл, Мода, стиль и шоп...</td>\n",
       "      <td>Реклама была супер. Весь день в сторис у Элины...</td>\n",
       "    </tr>\n",
       "    <tr>\n",
       "      <th>1</th>\n",
       "      <td>61</td>\n",
       "      <td>2019-07-02</td>\n",
       "      <td>since1545</td>\n",
       "      <td>easy__history</td>\n",
       "      <td>0.0</td>\n",
       "      <td>266</td>\n",
       "      <td>200.0</td>\n",
       "      <td>NaN</td>\n",
       "      <td>10</td>\n",
       "      <td>Сторис</td>\n",
       "      <td>Жизнь заграницей, Лайфстайл, Мода, стиль и шоп...</td>\n",
       "      <td>Она очень ответственно подошла к рекламе из вс...</td>\n",
       "    </tr>\n",
       "    <tr>\n",
       "      <th>2</th>\n",
       "      <td>63</td>\n",
       "      <td>2019-07-02</td>\n",
       "      <td>gassanchiki</td>\n",
       "      <td>_anarykova_</td>\n",
       "      <td>7.0</td>\n",
       "      <td>800</td>\n",
       "      <td>6000.0</td>\n",
       "      <td>NaN</td>\n",
       "      <td>5</td>\n",
       "      <td>Сторис</td>\n",
       "      <td>Жизнь заграницей, Лайфстайл, Мода, стиль и шоп...</td>\n",
       "      <td>Вроде всё неплохо, но\\nЗаявленный охват 30-50\\...</td>\n",
       "    </tr>\n",
       "    <tr>\n",
       "      <th>3</th>\n",
       "      <td>64</td>\n",
       "      <td>2019-07-02</td>\n",
       "      <td>irene.english.live</td>\n",
       "      <td>vika_portland_film</td>\n",
       "      <td>6.0</td>\n",
       "      <td>300</td>\n",
       "      <td>2000.0</td>\n",
       "      <td>NaN</td>\n",
       "      <td>8</td>\n",
       "      <td>Сторис</td>\n",
       "      <td>Жизнь заграницей, Лайфстайл, Мода, стиль и шоп...</td>\n",
       "      <td>Вика очень приятная в общении, идет на встречу...</td>\n",
       "    </tr>\n",
       "    <tr>\n",
       "      <th>4</th>\n",
       "      <td>65</td>\n",
       "      <td>2019-07-01</td>\n",
       "      <td>p</td>\n",
       "      <td>markelova.love</td>\n",
       "      <td>1.0</td>\n",
       "      <td>200</td>\n",
       "      <td>300.0</td>\n",
       "      <td>NaN</td>\n",
       "      <td>10</td>\n",
       "      <td>Сторис</td>\n",
       "      <td>Жизнь заграницей, Лайфстайл, Мода, стиль и шоп...</td>\n",
       "      <td>Шикарный подход к подаче рекламы: блогер вылож...</td>\n",
       "    </tr>\n",
       "  </tbody>\n",
       "</table>\n",
       "</div>"
      ],
      "text/plain": [
       "   ID Дата рекламы         Мой аккаунт Брали рекламу у блогера  \\\n",
       "0  59   2019-07-02         masha_davay           chebotareva_e   \n",
       "1  61   2019-07-02           since1545           easy__history   \n",
       "2  63   2019-07-02         gassanchiki             _anarykova_   \n",
       "3  64   2019-07-02  irene.english.live      vika_portland_film   \n",
       "4  65   2019-07-01                   p          markelova.love   \n",
       "\n",
       "   Цена за подписчика  Приход  Цена за рекламу  Охваты из рекламы  Оценка  \\\n",
       "0                 2.0    4000          10000.0                NaN      10   \n",
       "1                 0.0     266            200.0                NaN      10   \n",
       "2                 7.0     800           6000.0                NaN       5   \n",
       "3                 6.0     300           2000.0                NaN       8   \n",
       "4                 1.0     200            300.0                NaN      10   \n",
       "\n",
       "  Формат рекламы                                      Темы аккаунта  \\\n",
       "0         Сторис  Жизнь заграницей, Лайфстайл, Мода, стиль и шоп...   \n",
       "1         Сторис  Жизнь заграницей, Лайфстайл, Мода, стиль и шоп...   \n",
       "2         Сторис  Жизнь заграницей, Лайфстайл, Мода, стиль и шоп...   \n",
       "3         Сторис  Жизнь заграницей, Лайфстайл, Мода, стиль и шоп...   \n",
       "4         Сторис  Жизнь заграницей, Лайфстайл, Мода, стиль и шоп...   \n",
       "\n",
       "                                        Текст отзыва  \n",
       "0  Реклама была супер. Весь день в сторис у Элины...  \n",
       "1  Она очень ответственно подошла к рекламе из вс...  \n",
       "2  Вроде всё неплохо, но\\nЗаявленный охват 30-50\\...  \n",
       "3  Вика очень приятная в общении, идет на встречу...  \n",
       "4  Шикарный подход к подаче рекламы: блогер вылож...  "
      ]
     },
     "execution_count": 3,
     "metadata": {},
     "output_type": "execute_result"
    }
   ],
   "source": [
    "table.head()"
   ]
  },
  {
   "cell_type": "markdown",
   "metadata": {},
   "source": [
    "**First steps:**\n",
    "\n",
    "1. delete columns ID, client's account name, Comment;\n",
    "2. delete rows where price for ad was 0 RUB, because these were 'mutual PR' cases that are useless for my goal;\n",
    "3. delete rows where format of advertisment was 'Giveaway' because it's quite specific case;\n",
    "4. as far as I know results of advertisement might depend on week day and month, therefore I create columns with this information based on Date column;\n",
    "5. drop rows with absent information about prices for ad and ad's statistics because this information is of paramount importance for analysis;\n",
    "6. re-calculate column Price for subscriber because it's manually filled in by reviewers with serious errors;\n",
    "7. translate column names to English.\n"
   ]
  },
  {
   "cell_type": "code",
   "execution_count": 4,
   "metadata": {},
   "outputs": [],
   "source": [
    "cols = [0,2,11]\n",
    "\n",
    "# inplace=True is used to make the changes in the dataframe itself without doing the column dropping on a copy of the data frame.\n",
    "table.drop(table.columns[cols],axis=1,inplace=True)\n",
    "\n",
    "# where price for the ad is 0, it means 'mutual PR'. It is also useless for my goal.\n",
    "table = table[table['Цена за рекламу'] != 0]\n",
    "\n",
    "#Giveaway is not perconal ad, therefore, not suitable for my model\n",
    "table = table[table['Формат рекламы'] != 'Гив']\n",
    "\n",
    "#as far as I know results of an ad depend on week day and month\n",
    "table['Дата рекламы'] = pd.to_datetime(table['Дата рекламы'], format = '%Y-%m-%d')\n",
    "table['Month'] = table['Дата рекламы'].dt.month\n",
    "table['Week day'] = table['Дата рекламы'].dt.weekday\n",
    "\n",
    "table = table.dropna(subset = ['Цена за рекламу','Охваты из рекламы'])\n",
    "\n",
    "# The price per subscriber column is terribly calculated (manually by respondents), so, I replace it\n",
    "# When amount of coming subscribers equals to 0, then the price per subsriber is infinite. To eliminate it, I change the price with the total sum for ad.\n",
    "table['Цена за подписчика'] = table.apply(lambda row: np.round(row['Цена за рекламу'] / row['Приход'], 2) if row['Приход'] != 0 else row['Цена за рекламу'], axis = 1) \n",
    "\n",
    "table = table.reset_index(drop = True)\n",
    "\n",
    "table = table.rename(columns={'Дата рекламы':'Date', 'Брали рекламу у блогера':'Blogger', 'Цена за подписчика':'Price per subscriber',\n",
    "       'Приход':'Income', 'Цена за рекламу':'Price per ad', 'Охваты из рекламы':'Ad coverage', 'Оценка':'Rate',\n",
    "       'Формат рекламы':'Format', 'Темы аккаунта':\"Account's topic\"}, errors=\"raise\")"
   ]
  },
  {
   "cell_type": "code",
   "execution_count": 5,
   "metadata": {},
   "outputs": [
    {
     "name": "stdout",
     "output_type": "stream",
     "text": [
      "Current shape of the dataframe is 24303 rows and 11 columns.\n"
     ]
    }
   ],
   "source": [
    "print('Current shape of the dataframe is {} rows and {} columns.'.format(table.shape[0], table.shape[1]))"
   ]
  },
  {
   "cell_type": "markdown",
   "metadata": {},
   "source": [
    "**Get dummy variables**\n",
    "\n",
    "A reviewer can list unlimited amount of topics in column Account's topic. I transform this column into multiple dummy variables with 1 or 0 values whether a particular topic was mentioned or not.\n",
    "\n",
    "Columns Format, Month and Week day are categorical variables. In order to include these variables in a regression model I need to transform them into a set of binary variables.\n",
    "\n",
    "**Dummy Variable Trap**\n",
    "\n",
    "Dummy Variable Trap is a situation when independent variables are multicollinear and it is caused by including dummy variables that represent all possible categories of original variable. As a result it will have negative impact on regression algorithm. Even though multicollinearity doesn't affect predictive accuracy of a regression model, it undermines the statistical significance of the independent variables. To avoid this, one of the options in a categorical value should be droped.\n"
   ]
  },
  {
   "cell_type": "code",
   "execution_count": 6,
   "metadata": {},
   "outputs": [],
   "source": [
    "table = pd.concat([table,table[\"Account's topic\"].str.get_dummies(sep=', ')],1)\n",
    "table = pd.get_dummies(table, prefix=['Format','Month','Week day'], columns=['Format','Month','Week day'], drop_first=True)\n",
    "\n",
    "table = table.rename(columns={'Авто':'Auto', 'Бизнес':'Business', 'Бодипозитив':'Body-positivity', 'Бьюти':'Beauty', 'Дом':'Home',\n",
    "       'Другая тема':'Another topic', 'Животные':'Animals', 'Жизнь заграницей':'Life abroad', 'ЗОЖ':'Healthy lifestyle', 'Здоровье':'Health',\n",
    "       'Изучение языков':'Languages', 'Книги':'Books', 'ЛГБТ':'LGBT', 'Лайфстайл':'Lifestyle', 'Лайфхаки':'Lifehacks', 'Мамы':'Mothers',\n",
    "       'Мода':'Fashion', 'Мотивация':'Motivation', 'Музыка':'Music', 'Наука':'Science', 'Нет темы':'No topic', 'Обработка фото':'Photo Retouching',\n",
    "       'Образование':'Education', 'Отношения':'Relationships', 'ПП':'Right nutrition', 'Похудение':'Diets', 'Природа и экология':'Ecology',\n",
    "       'Продуктивность':'Productivity', 'Профессии (юрист':'Lawyer', 'Психология':'Psychology', 'Путешествия':'Travelling',\n",
    "       'Ремонт и интерьер':'Design and decor', 'Рецепты и еда':'Food', 'Рукоделие':'Handicraft', 'СММ':'SMM',\n",
    "       'Сад и огород':'Garden', 'Саморазвитие':'Self-development', 'Секс':'Sex', 'Семья':'Family', 'Социальные темы':'Social topics',\n",
    "       'Спорт и фитнес':'Sport', 'Танцы':'Dancing', 'Творчество и искусство':'Art', 'Феминизм':'Feminism',\n",
    "       'Фильмы':'Movies', 'Эзотерика':'Esotericism', 'Юмор':'Humor', 'дизайнер и т.д.)':'Designer', 'интерьер и ремонт':'Renovation',\n",
    "       'реклама и пиар':'PR', 'стиль и шоппинг':'Shopping and style'})"
   ]
  },
  {
   "cell_type": "code",
   "execution_count": 7,
   "metadata": {},
   "outputs": [
    {
     "name": "stdout",
     "output_type": "stream",
     "text": [
      "Shape of the dataframe after getting dummy variables is 24303 rows and 79 columns.\n"
     ]
    }
   ],
   "source": [
    "print('Shape of the dataframe after getting dummy variables is {} rows and {} columns.'.format(table.shape[0], table.shape[1]))"
   ]
  },
  {
   "cell_type": "markdown",
   "metadata": {},
   "source": [
    "**Drop columns**\n",
    "\n",
    "I have to exclude several columns with information that is already disclosed in other columns. It should be done to avoid overfitting: scenario when model describes training data too good and cannot peform generalization.\n",
    "\n",
    "Columns to drop:\n",
    "\n",
    "- Date: it is replaced by Month and Week day columns;\n",
    "\n",
    "- Blogger: I assume Blogger's account name has no effect on the result and this variable is too diverse to turn it into dummy (almost 5 000 unique values);\n",
    "\n",
    "- Price per subscriber: this column is a result of calculation Price per ad/Income;\n",
    "\n",
    "- Account's topic: it was turned into a set of dummy variables;\n",
    "\n",
    "- Rate: client cannot say in advance what will be the rate of results and impression from working with a blogger."
   ]
  },
  {
   "cell_type": "code",
   "execution_count": 8,
   "metadata": {},
   "outputs": [
    {
     "name": "stdout",
     "output_type": "stream",
     "text": [
      "Shape of the dataframe after droping undue columns is 24303 rows and 74 columns.\n"
     ]
    }
   ],
   "source": [
    "table = table.drop(['Date', 'Blogger', 'Price per subscriber',\"Account's topic\", 'Rate'], axis=1)\n",
    "print('Shape of the dataframe after droping undue columns is {} rows and {} columns.'.format(table.shape[0], table.shape[1]))"
   ]
  },
  {
   "cell_type": "code",
   "execution_count": 9,
   "metadata": {},
   "outputs": [
    {
     "data": {
      "text/html": [
       "<div>\n",
       "<style scoped>\n",
       "    .dataframe tbody tr th:only-of-type {\n",
       "        vertical-align: middle;\n",
       "    }\n",
       "\n",
       "    .dataframe tbody tr th {\n",
       "        vertical-align: top;\n",
       "    }\n",
       "\n",
       "    .dataframe thead th {\n",
       "        text-align: right;\n",
       "    }\n",
       "</style>\n",
       "<table border=\"1\" class=\"dataframe\">\n",
       "  <thead>\n",
       "    <tr style=\"text-align: right;\">\n",
       "      <th></th>\n",
       "      <th>Income</th>\n",
       "      <th>Price per ad</th>\n",
       "      <th>Ad coverage</th>\n",
       "      <th>Auto</th>\n",
       "      <th>Business</th>\n",
       "      <th>Body-positivity</th>\n",
       "      <th>Beauty</th>\n",
       "      <th>Home</th>\n",
       "      <th>Another topic</th>\n",
       "      <th>Animals</th>\n",
       "      <th>...</th>\n",
       "      <th>Month_9</th>\n",
       "      <th>Month_10</th>\n",
       "      <th>Month_11</th>\n",
       "      <th>Month_12</th>\n",
       "      <th>Week day_1</th>\n",
       "      <th>Week day_2</th>\n",
       "      <th>Week day_3</th>\n",
       "      <th>Week day_4</th>\n",
       "      <th>Week day_5</th>\n",
       "      <th>Week day_6</th>\n",
       "    </tr>\n",
       "  </thead>\n",
       "  <tbody>\n",
       "    <tr>\n",
       "      <th>0</th>\n",
       "      <td>334</td>\n",
       "      <td>2000.0</td>\n",
       "      <td>7115.0</td>\n",
       "      <td>0</td>\n",
       "      <td>0</td>\n",
       "      <td>0</td>\n",
       "      <td>0</td>\n",
       "      <td>0</td>\n",
       "      <td>0</td>\n",
       "      <td>0</td>\n",
       "      <td>...</td>\n",
       "      <td>0</td>\n",
       "      <td>0</td>\n",
       "      <td>0</td>\n",
       "      <td>0</td>\n",
       "      <td>0</td>\n",
       "      <td>0</td>\n",
       "      <td>1</td>\n",
       "      <td>0</td>\n",
       "      <td>0</td>\n",
       "      <td>0</td>\n",
       "    </tr>\n",
       "    <tr>\n",
       "      <th>1</th>\n",
       "      <td>118</td>\n",
       "      <td>6000.0</td>\n",
       "      <td>20151.0</td>\n",
       "      <td>0</td>\n",
       "      <td>0</td>\n",
       "      <td>0</td>\n",
       "      <td>0</td>\n",
       "      <td>0</td>\n",
       "      <td>0</td>\n",
       "      <td>0</td>\n",
       "      <td>...</td>\n",
       "      <td>0</td>\n",
       "      <td>0</td>\n",
       "      <td>0</td>\n",
       "      <td>0</td>\n",
       "      <td>1</td>\n",
       "      <td>0</td>\n",
       "      <td>0</td>\n",
       "      <td>0</td>\n",
       "      <td>0</td>\n",
       "      <td>0</td>\n",
       "    </tr>\n",
       "    <tr>\n",
       "      <th>2</th>\n",
       "      <td>102</td>\n",
       "      <td>2000.0</td>\n",
       "      <td>10400.0</td>\n",
       "      <td>0</td>\n",
       "      <td>0</td>\n",
       "      <td>0</td>\n",
       "      <td>0</td>\n",
       "      <td>0</td>\n",
       "      <td>0</td>\n",
       "      <td>0</td>\n",
       "      <td>...</td>\n",
       "      <td>0</td>\n",
       "      <td>0</td>\n",
       "      <td>0</td>\n",
       "      <td>0</td>\n",
       "      <td>0</td>\n",
       "      <td>0</td>\n",
       "      <td>0</td>\n",
       "      <td>0</td>\n",
       "      <td>0</td>\n",
       "      <td>0</td>\n",
       "    </tr>\n",
       "    <tr>\n",
       "      <th>3</th>\n",
       "      <td>111</td>\n",
       "      <td>7000.0</td>\n",
       "      <td>22900.0</td>\n",
       "      <td>0</td>\n",
       "      <td>0</td>\n",
       "      <td>0</td>\n",
       "      <td>0</td>\n",
       "      <td>0</td>\n",
       "      <td>0</td>\n",
       "      <td>0</td>\n",
       "      <td>...</td>\n",
       "      <td>0</td>\n",
       "      <td>0</td>\n",
       "      <td>0</td>\n",
       "      <td>0</td>\n",
       "      <td>1</td>\n",
       "      <td>0</td>\n",
       "      <td>0</td>\n",
       "      <td>0</td>\n",
       "      <td>0</td>\n",
       "      <td>0</td>\n",
       "    </tr>\n",
       "    <tr>\n",
       "      <th>4</th>\n",
       "      <td>82</td>\n",
       "      <td>1500.0</td>\n",
       "      <td>6077.0</td>\n",
       "      <td>0</td>\n",
       "      <td>0</td>\n",
       "      <td>0</td>\n",
       "      <td>0</td>\n",
       "      <td>0</td>\n",
       "      <td>0</td>\n",
       "      <td>0</td>\n",
       "      <td>...</td>\n",
       "      <td>0</td>\n",
       "      <td>0</td>\n",
       "      <td>0</td>\n",
       "      <td>0</td>\n",
       "      <td>0</td>\n",
       "      <td>0</td>\n",
       "      <td>1</td>\n",
       "      <td>0</td>\n",
       "      <td>0</td>\n",
       "      <td>0</td>\n",
       "    </tr>\n",
       "  </tbody>\n",
       "</table>\n",
       "<p>5 rows × 74 columns</p>\n",
       "</div>"
      ],
      "text/plain": [
       "   Income  Price per ad  Ad coverage  Auto  Business  Body-positivity  Beauty  \\\n",
       "0     334        2000.0       7115.0     0         0                0       0   \n",
       "1     118        6000.0      20151.0     0         0                0       0   \n",
       "2     102        2000.0      10400.0     0         0                0       0   \n",
       "3     111        7000.0      22900.0     0         0                0       0   \n",
       "4      82        1500.0       6077.0     0         0                0       0   \n",
       "\n",
       "   Home  Another topic  Animals  ...  Month_9  Month_10  Month_11  Month_12  \\\n",
       "0     0              0        0  ...        0         0         0         0   \n",
       "1     0              0        0  ...        0         0         0         0   \n",
       "2     0              0        0  ...        0         0         0         0   \n",
       "3     0              0        0  ...        0         0         0         0   \n",
       "4     0              0        0  ...        0         0         0         0   \n",
       "\n",
       "   Week day_1  Week day_2  Week day_3  Week day_4  Week day_5  Week day_6  \n",
       "0           0           0           1           0           0           0  \n",
       "1           1           0           0           0           0           0  \n",
       "2           0           0           0           0           0           0  \n",
       "3           1           0           0           0           0           0  \n",
       "4           0           0           1           0           0           0  \n",
       "\n",
       "[5 rows x 74 columns]"
      ]
     },
     "execution_count": 9,
     "metadata": {},
     "output_type": "execute_result"
    }
   ],
   "source": [
    "table.head()"
   ]
  },
  {
   "cell_type": "markdown",
   "metadata": {},
   "source": [
    "## 2.2 SPLIT  OF  THE  DATASET"
   ]
  },
  {
   "cell_type": "markdown",
   "metadata": {},
   "source": [
    "**Split table for X and y**\n",
    "\n",
    "My goal is to predict possible amount of new subscribers after advertisement, therefore, column Income (it shows amount of new subscribers came after advertisemnt) will be dependent variable or y. And the rest of the columns will be independent variables or X."
   ]
  },
  {
   "cell_type": "code",
   "execution_count": 10,
   "metadata": {},
   "outputs": [
    {
     "name": "stdout",
     "output_type": "stream",
     "text": [
      "Shape of X is 24303 rows and 73 columns.\n",
      "Shape of y is 24303 rows and 1 column.\n"
     ]
    }
   ],
   "source": [
    "X = table.drop('Income', axis = 1)\n",
    "y = table.loc[:, ['Income']]\n",
    "\n",
    "print('Shape of X is {} rows and {} columns.'.format(X.shape[0], X.shape[1]))\n",
    "print('Shape of y is {} rows and {} column.'.format(y.shape[0], y.shape[1]))"
   ]
  },
  {
   "cell_type": "markdown",
   "metadata": {},
   "source": [
    "**Train/test split**\n",
    "\n",
    "The size of the test set will be 20%."
   ]
  },
  {
   "cell_type": "code",
   "execution_count": 11,
   "metadata": {},
   "outputs": [
    {
     "name": "stdout",
     "output_type": "stream",
     "text": [
      "Length of the training set is 19442 rows.\n",
      "Length of the test set is 4861 rows.\n"
     ]
    }
   ],
   "source": [
    "X_train, X_test, y_train, y_test = train_test_split(X, y, test_size = 0.2, random_state = 33)\n",
    "\n",
    "print('Length of the training set is {} rows.'.format(X_train.shape[0]))\n",
    "print('Length of the test set is {} rows.'.format(X_test.shape[0]))\n"
   ]
  },
  {
   "cell_type": "markdown",
   "metadata": {},
   "source": [
    "I haved checked that average values of y-variable in train and test sets are quite similr, so, they are distributed equally. "
   ]
  },
  {
   "cell_type": "code",
   "execution_count": 12,
   "metadata": {},
   "outputs": [
    {
     "name": "stdout",
     "output_type": "stream",
     "text": [
      "Average value of y_train is 1108.86, average value of y_test is 1086.72\n"
     ]
    }
   ],
   "source": [
    "print('Average value of y_train is {:.2f}, average value of y_test is {:.2f}'. format(y_train.Income.mean(), y_test.Income.mean()))"
   ]
  },
  {
   "cell_type": "markdown",
   "metadata": {},
   "source": [
    "**Numerical data and categorical data**\n",
    "\n",
    "X_train and x_test sets contain columns with both categorical and numerical data and these data types require different approaches in pre-processing. Therefore, beforehand I have to split datasets and afterwards combaine in line with indexes."
   ]
  },
  {
   "cell_type": "markdown",
   "metadata": {},
   "source": [
    "**Numerical Data**\n",
    "\n",
    "Numerical columns are Price per ad and Ad coverage (how many viewers saw the advertisement)."
   ]
  },
  {
   "cell_type": "code",
   "execution_count": 16,
   "metadata": {},
   "outputs": [
    {
     "data": {
      "text/html": [
       "<div>\n",
       "<style scoped>\n",
       "    .dataframe tbody tr th:only-of-type {\n",
       "        vertical-align: middle;\n",
       "    }\n",
       "\n",
       "    .dataframe tbody tr th {\n",
       "        vertical-align: top;\n",
       "    }\n",
       "\n",
       "    .dataframe thead th {\n",
       "        text-align: right;\n",
       "    }\n",
       "</style>\n",
       "<table border=\"1\" class=\"dataframe\">\n",
       "  <thead>\n",
       "    <tr style=\"text-align: right;\">\n",
       "      <th></th>\n",
       "      <th>Price per ad</th>\n",
       "      <th>Ad coverage</th>\n",
       "    </tr>\n",
       "  </thead>\n",
       "  <tbody>\n",
       "    <tr>\n",
       "      <th>count</th>\n",
       "      <td>19442.000000</td>\n",
       "      <td>1.944200e+04</td>\n",
       "    </tr>\n",
       "    <tr>\n",
       "      <th>mean</th>\n",
       "      <td>4157.579416</td>\n",
       "      <td>1.748698e+04</td>\n",
       "    </tr>\n",
       "    <tr>\n",
       "      <th>std</th>\n",
       "      <td>9443.871958</td>\n",
       "      <td>4.428776e+04</td>\n",
       "    </tr>\n",
       "    <tr>\n",
       "      <th>min</th>\n",
       "      <td>1.000000</td>\n",
       "      <td>0.000000e+00</td>\n",
       "    </tr>\n",
       "    <tr>\n",
       "      <th>25%</th>\n",
       "      <td>700.000000</td>\n",
       "      <td>2.212250e+03</td>\n",
       "    </tr>\n",
       "    <tr>\n",
       "      <th>50%</th>\n",
       "      <td>1500.000000</td>\n",
       "      <td>5.432000e+03</td>\n",
       "    </tr>\n",
       "    <tr>\n",
       "      <th>75%</th>\n",
       "      <td>4000.000000</td>\n",
       "      <td>1.511975e+04</td>\n",
       "    </tr>\n",
       "    <tr>\n",
       "      <th>max</th>\n",
       "      <td>220000.000000</td>\n",
       "      <td>1.114577e+06</td>\n",
       "    </tr>\n",
       "  </tbody>\n",
       "</table>\n",
       "</div>"
      ],
      "text/plain": [
       "        Price per ad   Ad coverage\n",
       "count   19442.000000  1.944200e+04\n",
       "mean     4157.579416  1.748698e+04\n",
       "std      9443.871958  4.428776e+04\n",
       "min         1.000000  0.000000e+00\n",
       "25%       700.000000  2.212250e+03\n",
       "50%      1500.000000  5.432000e+03\n",
       "75%      4000.000000  1.511975e+04\n",
       "max    220000.000000  1.114577e+06"
      ]
     },
     "execution_count": 16,
     "metadata": {},
     "output_type": "execute_result"
    }
   ],
   "source": [
    "X_train_numeric = X_train[['Price per ad','Ad coverage']]\n",
    "\n",
    "X_train_numeric.describe()"
   ]
  },
  {
   "cell_type": "markdown",
   "metadata": {},
   "source": [
    "**Scaling numerical data**\n",
    "\n",
    "Scales of these two columns are so different that they need to be standardized. As they have serious outliers I prefer to use RobustScaler() to reduce the effect of outliers. So, each value will be transformed: X'(i) = (X(i)- Q1)/(Q3 - Q1)\n",
    "\n",
    "*Scaling training set*"
   ]
  },
  {
   "cell_type": "code",
   "execution_count": 17,
   "metadata": {},
   "outputs": [
    {
     "data": {
      "text/html": [
       "<div>\n",
       "<style scoped>\n",
       "    .dataframe tbody tr th:only-of-type {\n",
       "        vertical-align: middle;\n",
       "    }\n",
       "\n",
       "    .dataframe tbody tr th {\n",
       "        vertical-align: top;\n",
       "    }\n",
       "\n",
       "    .dataframe thead th {\n",
       "        text-align: right;\n",
       "    }\n",
       "</style>\n",
       "<table border=\"1\" class=\"dataframe\">\n",
       "  <thead>\n",
       "    <tr style=\"text-align: right;\">\n",
       "      <th></th>\n",
       "      <th>Price per ad</th>\n",
       "      <th>Ad coverage</th>\n",
       "    </tr>\n",
       "  </thead>\n",
       "  <tbody>\n",
       "    <tr>\n",
       "      <th>count</th>\n",
       "      <td>19442.000000</td>\n",
       "      <td>19442.000000</td>\n",
       "    </tr>\n",
       "    <tr>\n",
       "      <th>mean</th>\n",
       "      <td>0.805327</td>\n",
       "      <td>0.933952</td>\n",
       "    </tr>\n",
       "    <tr>\n",
       "      <th>std</th>\n",
       "      <td>2.861779</td>\n",
       "      <td>3.431165</td>\n",
       "    </tr>\n",
       "    <tr>\n",
       "      <th>min</th>\n",
       "      <td>-0.454242</td>\n",
       "      <td>-0.420841</td>\n",
       "    </tr>\n",
       "    <tr>\n",
       "      <th>25%</th>\n",
       "      <td>-0.242424</td>\n",
       "      <td>-0.249448</td>\n",
       "    </tr>\n",
       "    <tr>\n",
       "      <th>50%</th>\n",
       "      <td>0.000000</td>\n",
       "      <td>0.000000</td>\n",
       "    </tr>\n",
       "    <tr>\n",
       "      <th>75%</th>\n",
       "      <td>0.757576</td>\n",
       "      <td>0.750552</td>\n",
       "    </tr>\n",
       "    <tr>\n",
       "      <th>max</th>\n",
       "      <td>66.212121</td>\n",
       "      <td>85.930273</td>\n",
       "    </tr>\n",
       "  </tbody>\n",
       "</table>\n",
       "</div>"
      ],
      "text/plain": [
       "       Price per ad   Ad coverage\n",
       "count  19442.000000  19442.000000\n",
       "mean       0.805327      0.933952\n",
       "std        2.861779      3.431165\n",
       "min       -0.454242     -0.420841\n",
       "25%       -0.242424     -0.249448\n",
       "50%        0.000000      0.000000\n",
       "75%        0.757576      0.750552\n",
       "max       66.212121     85.930273"
      ]
     },
     "execution_count": 17,
     "metadata": {},
     "output_type": "execute_result"
    }
   ],
   "source": [
    "rs = RobustScaler()\n",
    "\n",
    "X_train_cols = X_train.columns\n",
    "X_train_num_cols = X_train_numeric.columns\n",
    "\n",
    "X_train_numeric = pd.DataFrame(rs.fit_transform(X_train_numeric))\n",
    "X_train_numeric.set_index(X_train.index, inplace = True)\n",
    "\n",
    "X_train_numeric.columns = X_train_num_cols\n",
    "\n",
    "X_train_numeric.describe()"
   ]
  },
  {
   "cell_type": "markdown",
   "metadata": {},
   "source": [
    "*Scaling test set*"
   ]
  },
  {
   "cell_type": "code",
   "execution_count": 18,
   "metadata": {},
   "outputs": [
    {
     "data": {
      "text/html": [
       "<div>\n",
       "<style scoped>\n",
       "    .dataframe tbody tr th:only-of-type {\n",
       "        vertical-align: middle;\n",
       "    }\n",
       "\n",
       "    .dataframe tbody tr th {\n",
       "        vertical-align: top;\n",
       "    }\n",
       "\n",
       "    .dataframe thead th {\n",
       "        text-align: right;\n",
       "    }\n",
       "</style>\n",
       "<table border=\"1\" class=\"dataframe\">\n",
       "  <thead>\n",
       "    <tr style=\"text-align: right;\">\n",
       "      <th></th>\n",
       "      <th>Price per ad</th>\n",
       "      <th>Ad coverage</th>\n",
       "    </tr>\n",
       "  </thead>\n",
       "  <tbody>\n",
       "    <tr>\n",
       "      <th>count</th>\n",
       "      <td>4861.000000</td>\n",
       "      <td>4861.000000</td>\n",
       "    </tr>\n",
       "    <tr>\n",
       "      <th>mean</th>\n",
       "      <td>0.770841</td>\n",
       "      <td>0.918318</td>\n",
       "    </tr>\n",
       "    <tr>\n",
       "      <th>std</th>\n",
       "      <td>2.523159</td>\n",
       "      <td>3.463448</td>\n",
       "    </tr>\n",
       "    <tr>\n",
       "      <th>min</th>\n",
       "      <td>-0.454242</td>\n",
       "      <td>-0.420841</td>\n",
       "    </tr>\n",
       "    <tr>\n",
       "      <th>25%</th>\n",
       "      <td>-0.242424</td>\n",
       "      <td>-0.252954</td>\n",
       "    </tr>\n",
       "    <tr>\n",
       "      <th>50%</th>\n",
       "      <td>0.000000</td>\n",
       "      <td>-0.006585</td>\n",
       "    </tr>\n",
       "    <tr>\n",
       "      <th>75%</th>\n",
       "      <td>0.757576</td>\n",
       "      <td>0.701375</td>\n",
       "    </tr>\n",
       "    <tr>\n",
       "      <th>max</th>\n",
       "      <td>45.000000</td>\n",
       "      <td>80.509394</td>\n",
       "    </tr>\n",
       "  </tbody>\n",
       "</table>\n",
       "</div>"
      ],
      "text/plain": [
       "       Price per ad  Ad coverage\n",
       "count   4861.000000  4861.000000\n",
       "mean       0.770841     0.918318\n",
       "std        2.523159     3.463448\n",
       "min       -0.454242    -0.420841\n",
       "25%       -0.242424    -0.252954\n",
       "50%        0.000000    -0.006585\n",
       "75%        0.757576     0.701375\n",
       "max       45.000000    80.509394"
      ]
     },
     "execution_count": 18,
     "metadata": {},
     "output_type": "execute_result"
    }
   ],
   "source": [
    "#SCALING TEST SET\n",
    "X_test_numeric = X_test[['Price per ad','Ad coverage']]\n",
    "X_test_cols = X_test.columns\n",
    "X_test_num_cols = X_test_numeric.columns\n",
    "\n",
    "X_test_numeric = pd.DataFrame(rs.transform(X_test_numeric))\n",
    "X_test_numeric.set_index(X_test.index, inplace = True)\n",
    "\n",
    "X_test_numeric.columns = X_test_num_cols\n",
    "X_test_numeric.describe()"
   ]
  },
  {
   "cell_type": "markdown",
   "metadata": {},
   "source": [
    "**Categorical Data**\n",
    "\n",
    "The rest of the columns (Account's topics, Month, Week day) are categorical."
   ]
  },
  {
   "cell_type": "code",
   "execution_count": 19,
   "metadata": {},
   "outputs": [
    {
     "data": {
      "text/html": [
       "<div>\n",
       "<style scoped>\n",
       "    .dataframe tbody tr th:only-of-type {\n",
       "        vertical-align: middle;\n",
       "    }\n",
       "\n",
       "    .dataframe tbody tr th {\n",
       "        vertical-align: top;\n",
       "    }\n",
       "\n",
       "    .dataframe thead th {\n",
       "        text-align: right;\n",
       "    }\n",
       "</style>\n",
       "<table border=\"1\" class=\"dataframe\">\n",
       "  <thead>\n",
       "    <tr style=\"text-align: right;\">\n",
       "      <th></th>\n",
       "      <th>Auto</th>\n",
       "      <th>Business</th>\n",
       "      <th>Body-positivity</th>\n",
       "      <th>Beauty</th>\n",
       "      <th>Home</th>\n",
       "      <th>Another topic</th>\n",
       "      <th>Animals</th>\n",
       "      <th>Life abroad</th>\n",
       "      <th>Healthy lifestyle</th>\n",
       "      <th>Health</th>\n",
       "      <th>...</th>\n",
       "      <th>Month_9</th>\n",
       "      <th>Month_10</th>\n",
       "      <th>Month_11</th>\n",
       "      <th>Month_12</th>\n",
       "      <th>Week day_1</th>\n",
       "      <th>Week day_2</th>\n",
       "      <th>Week day_3</th>\n",
       "      <th>Week day_4</th>\n",
       "      <th>Week day_5</th>\n",
       "      <th>Week day_6</th>\n",
       "    </tr>\n",
       "  </thead>\n",
       "  <tbody>\n",
       "    <tr>\n",
       "      <th>15598</th>\n",
       "      <td>0</td>\n",
       "      <td>0</td>\n",
       "      <td>0</td>\n",
       "      <td>0</td>\n",
       "      <td>0</td>\n",
       "      <td>0</td>\n",
       "      <td>0</td>\n",
       "      <td>0</td>\n",
       "      <td>0</td>\n",
       "      <td>0</td>\n",
       "      <td>...</td>\n",
       "      <td>1</td>\n",
       "      <td>0</td>\n",
       "      <td>0</td>\n",
       "      <td>0</td>\n",
       "      <td>0</td>\n",
       "      <td>0</td>\n",
       "      <td>0</td>\n",
       "      <td>1</td>\n",
       "      <td>0</td>\n",
       "      <td>0</td>\n",
       "    </tr>\n",
       "    <tr>\n",
       "      <th>19750</th>\n",
       "      <td>0</td>\n",
       "      <td>0</td>\n",
       "      <td>0</td>\n",
       "      <td>0</td>\n",
       "      <td>0</td>\n",
       "      <td>0</td>\n",
       "      <td>0</td>\n",
       "      <td>0</td>\n",
       "      <td>0</td>\n",
       "      <td>0</td>\n",
       "      <td>...</td>\n",
       "      <td>0</td>\n",
       "      <td>0</td>\n",
       "      <td>1</td>\n",
       "      <td>0</td>\n",
       "      <td>0</td>\n",
       "      <td>0</td>\n",
       "      <td>1</td>\n",
       "      <td>0</td>\n",
       "      <td>0</td>\n",
       "      <td>0</td>\n",
       "    </tr>\n",
       "    <tr>\n",
       "      <th>22186</th>\n",
       "      <td>0</td>\n",
       "      <td>0</td>\n",
       "      <td>0</td>\n",
       "      <td>0</td>\n",
       "      <td>0</td>\n",
       "      <td>0</td>\n",
       "      <td>0</td>\n",
       "      <td>0</td>\n",
       "      <td>0</td>\n",
       "      <td>0</td>\n",
       "      <td>...</td>\n",
       "      <td>0</td>\n",
       "      <td>0</td>\n",
       "      <td>0</td>\n",
       "      <td>0</td>\n",
       "      <td>0</td>\n",
       "      <td>0</td>\n",
       "      <td>0</td>\n",
       "      <td>0</td>\n",
       "      <td>0</td>\n",
       "      <td>0</td>\n",
       "    </tr>\n",
       "    <tr>\n",
       "      <th>11223</th>\n",
       "      <td>0</td>\n",
       "      <td>0</td>\n",
       "      <td>0</td>\n",
       "      <td>0</td>\n",
       "      <td>0</td>\n",
       "      <td>0</td>\n",
       "      <td>0</td>\n",
       "      <td>0</td>\n",
       "      <td>0</td>\n",
       "      <td>0</td>\n",
       "      <td>...</td>\n",
       "      <td>0</td>\n",
       "      <td>0</td>\n",
       "      <td>0</td>\n",
       "      <td>0</td>\n",
       "      <td>0</td>\n",
       "      <td>0</td>\n",
       "      <td>0</td>\n",
       "      <td>0</td>\n",
       "      <td>0</td>\n",
       "      <td>1</td>\n",
       "    </tr>\n",
       "    <tr>\n",
       "      <th>3223</th>\n",
       "      <td>0</td>\n",
       "      <td>0</td>\n",
       "      <td>0</td>\n",
       "      <td>0</td>\n",
       "      <td>0</td>\n",
       "      <td>0</td>\n",
       "      <td>0</td>\n",
       "      <td>0</td>\n",
       "      <td>0</td>\n",
       "      <td>0</td>\n",
       "      <td>...</td>\n",
       "      <td>0</td>\n",
       "      <td>0</td>\n",
       "      <td>0</td>\n",
       "      <td>0</td>\n",
       "      <td>0</td>\n",
       "      <td>0</td>\n",
       "      <td>0</td>\n",
       "      <td>0</td>\n",
       "      <td>1</td>\n",
       "      <td>0</td>\n",
       "    </tr>\n",
       "  </tbody>\n",
       "</table>\n",
       "<p>5 rows × 71 columns</p>\n",
       "</div>"
      ],
      "text/plain": [
       "       Auto  Business  Body-positivity  Beauty  Home  Another topic  Animals  \\\n",
       "15598     0         0                0       0     0              0        0   \n",
       "19750     0         0                0       0     0              0        0   \n",
       "22186     0         0                0       0     0              0        0   \n",
       "11223     0         0                0       0     0              0        0   \n",
       "3223      0         0                0       0     0              0        0   \n",
       "\n",
       "       Life abroad  Healthy lifestyle  Health  ...  Month_9  Month_10  \\\n",
       "15598            0                  0       0  ...        1         0   \n",
       "19750            0                  0       0  ...        0         0   \n",
       "22186            0                  0       0  ...        0         0   \n",
       "11223            0                  0       0  ...        0         0   \n",
       "3223             0                  0       0  ...        0         0   \n",
       "\n",
       "       Month_11  Month_12  Week day_1  Week day_2  Week day_3  Week day_4  \\\n",
       "15598         0         0           0           0           0           1   \n",
       "19750         1         0           0           0           1           0   \n",
       "22186         0         0           0           0           0           0   \n",
       "11223         0         0           0           0           0           0   \n",
       "3223          0         0           0           0           0           0   \n",
       "\n",
       "       Week day_5  Week day_6  \n",
       "15598           0           0  \n",
       "19750           0           0  \n",
       "22186           0           0  \n",
       "11223           0           1  \n",
       "3223            1           0  \n",
       "\n",
       "[5 rows x 71 columns]"
      ]
     },
     "execution_count": 19,
     "metadata": {},
     "output_type": "execute_result"
    }
   ],
   "source": [
    "X_train_cat = X_train.drop(['Price per ad','Ad coverage'], axis = 1)\n",
    "X_test_cat = X_test.drop(['Price per ad','Ad coverage'], axis = 1)\n",
    "\n",
    "X_train_cat.head()"
   ]
  },
  {
   "cell_type": "markdown",
   "metadata": {},
   "source": [
    "**Merging categorical data and numeric data according to indexes**"
   ]
  },
  {
   "cell_type": "code",
   "execution_count": 22,
   "metadata": {},
   "outputs": [
    {
     "name": "stdout",
     "output_type": "stream",
     "text": [
      "Shape of the training set after pre-processing steps is 19442 rows and 73 columns.\n",
      "Shape of the test set after pre-processing steps is 4861 rows and 73 columns.\n"
     ]
    }
   ],
   "source": [
    "X_train_prep = pd.merge(X_train_cat, X_train_numeric, left_index = True, right_index = True)\n",
    "y_train = y_train.loc[X_train_prep.index]\n",
    "print('Shape of the training set after pre-processing steps is {} rows and {} columns.'.format(X_train_prep.shape[0], X_train_prep.shape[1]))\n",
    "\n",
    "X_test_prep = pd.merge(X_test_cat, X_test_numeric, left_index = True, right_index = True)\n",
    "y_test = y_test.loc[X_test_prep.index]\n",
    "print('Shape of the test set after pre-processing steps is {} rows and {} columns.'.format(X_test_prep.shape[0], X_test_prep.shape[1]))"
   ]
  },
  {
   "cell_type": "markdown",
   "metadata": {},
   "source": [
    "## 2.3 ASSUMPTIONS  OF  LINEAR  REGRESSION"
   ]
  },
  {
   "cell_type": "markdown",
   "metadata": {},
   "source": [
    "The first and obvious choice to solve regression problem (predicting continuous value) is Linear regression model or OLS regression. But before applying Linear regression model on the total dataset, both numerical and categorical columns, I check whether it suits my data and its results will be reliable.\n",
    "\n",
    "​\n",
    "\n",
    "There are 4 assumptions that data should follow in order to implement OLS regression model:\n",
    "\n",
    "1. linear functional form (dependent variable y should be linearly related to independent variable X);\n",
    "\n",
    "2. residual errors should be i.i.d.;\n",
    "\n",
    "3. residual errors should be normally distributed;\n",
    "\n",
    "4. residual errors should be homoscedastic."
   ]
  },
  {
   "cell_type": "markdown",
   "metadata": {},
   "source": [
    "**1. Linear functional form**\n",
    "\n",
    "It could be checked in 2 ways:\n",
    "- plot x-variables against dependent y-variable;\n",
    "- calculate Pearson’s correlation coefficient for each x-variable."
   ]
  },
  {
   "cell_type": "code",
   "execution_count": 27,
   "metadata": {},
   "outputs": [
    {
     "name": "stdout",
     "output_type": "stream",
     "text": [
      "Pearson’s correlation coefficients:\n",
      "Ad coverage     0.795761\n",
      "Price per ad    0.810330\n",
      "dtype: float64\n"
     ]
    },
    {
     "data": {
      "image/png": "[encoded data removed]",
      "text/plain": [
       "<Figure size 1080x360 with 2 Axes>"
      ]
     },
     "metadata": {
      "needs_background": "light"
     },
     "output_type": "display_data"
    }
   ],
   "source": [
    "print('Pearson’s correlation coefficients:')\n",
    "print(X_train_numeric[['Ad coverage','Price per ad']].corrwith(y_train['Income']))\n",
    "\n",
    "fig = plt.figure(figsize = (15,5))\n",
    "plt.style.use('seaborn')\n",
    "fig.suptitle('Check for linear functional form', fontsize=16)\n",
    "\n",
    "spec = fig.add_gridspec(1, 2)\n",
    "f_ax1 = fig.add_subplot(spec[0, 0])\n",
    "f_ax2 = fig.add_subplot(spec[0, 1])\n",
    "\n",
    "f_ax1.scatter(x = X_train_numeric['Ad coverage'], y = y_train['Income'], c=\"g\", alpha=0.3, s = 30)\n",
    "f_ax2.scatter(x = X_train_numeric['Price per ad'], y = y_train['Income'], c=\"g\", alpha=0.3, s = 30)\n",
    "\n",
    "f_ax1.set_xlabel('Ad coverage', fontsize = 12)\n",
    "f_ax2.set_xlabel('Price per ad', fontsize = 12)\n",
    "\n",
    "f_ax1.set_ylabel('Income', fontsize = 12)\n",
    "f_ax2.set_ylabel('Income', fontsize = 12)\n",
    "\n",
    "plt.show()"
   ]
  },
  {
   "cell_type": "markdown",
   "metadata": {},
   "source": [
    "Although, linear relationships are not obvious and it's difficult to determine them visually, values of Pearson’s correlation coefficient are significant enough to confirm the first assumption."
   ]
  },
  {
   "cell_type": "markdown",
   "metadata": {},
   "source": [
    "**2. Residual errors should be independent, identically distributed random variables**\n",
    "\n",
    "Even though it might not be easy to detect independence of residual errors, one of the ways is to plot residual errors versus predicted values. Ideally, residual errors should be equally and randomly spaced around the horizontal axis.\n",
    "\n",
    "Unfortunately, on the plot below it is clear that residual errors are far from perfect and have a cone-shaped pattern.\n"
   ]
  },
  {
   "cell_type": "code",
   "execution_count": 28,
   "metadata": {},
   "outputs": [
    {
     "data": {
      "image/png": "[encoded data removed]",
      "text/plain": [
       "<Figure size 576x396 with 1 Axes>"
      ]
     },
     "metadata": {},
     "output_type": "display_data"
    }
   ],
   "source": [
    "from statsmodels.regression import linear_model\n",
    "\n",
    "olsr_results = linear_model.OLS(y_train, X_train_numeric).fit()\n",
    "olsr_predictions = olsr_results.get_prediction(X_train_numeric)\n",
    "\n",
    "prediction_summary_frame = olsr_predictions.summary_frame()\n",
    "\n",
    "y_pred = prediction_summary_frame['mean']\n",
    "resid = y_train['Income'] - y_pred\n",
    "\n",
    "plt.suptitle('Check residual errors to be independent and identically distributed', fontsize = 16)\n",
    "plt.xlabel('Predicted Income', fontsize=12)\n",
    "plt.ylabel('Residual Error of Regression', fontsize=12)\n",
    "plt.scatter(y_pred, resid, c=\"g\", alpha=0.3, s = 30)\n",
    "\n",
    "plt.show()"
   ]
  },
  {
   "cell_type": "markdown",
   "metadata": {},
   "source": [
    "**3. Residual errors should be homoscedastic**\n",
    "\n",
    "*I skip the normality check because it's not strictly required.*\n",
    "\n",
    "I check homoscedasticity of the residuals using Breusch-Pagan test. It establishes whether the variance of the residual errors is constant or not. "
   ]
  },
  {
   "cell_type": "code",
   "execution_count": 29,
   "metadata": {},
   "outputs": [
    {
     "name": "stdout",
     "output_type": "stream",
     "text": [
      "{'Lagrange Multiplier Statistic': 4787.924990063729, 'LM-Test p-value': 0.0, 'F-Statistic': 3175.8149778722773, 'F-Test p-value': 0.0}\n"
     ]
    }
   ],
   "source": [
    "from statsmodels.stats.diagnostic import het_breuschpagan\n",
    "\n",
    "resid = resid.values.reshape(19442,1)\n",
    "bp_test = het_breuschpagan(resid, X_train_numeric)\n",
    "\n",
    "labels = ['Lagrange Multiplier Statistic', 'LM-Test p-value', 'F-Statistic', 'F-Test p-value']\n",
    "print(dict(zip(labels, bp_test)))"
   ]
  },
  {
   "cell_type": "markdown",
   "metadata": {},
   "source": [
    "Heteroskedasticity is indicated if p-value is below 0.05, and based on this test, I reject the null hypothesis of the F-test that the residuals errors are homoscedastic and accept the alternative hypothesis that residual errors are heteroscedastic.\n",
    "\n",
    "So, the training set failed to fit linear regression model assumptions. There are several ways to deal with such situation and various models to apply."
   ]
  },
  {
   "cell_type": "markdown",
   "metadata": {},
   "source": [
    "## 2.4 FEATURE  SELECTION"
   ]
  },
  {
   "cell_type": "markdown",
   "metadata": {},
   "source": [
    "Next step is dimensionality reduction. 73 columns might be too much and result in overfitting. To avoid negative effect of information overload, I use Random forrest. It determines the importance of each variable in decreasing impurity and select the most valuable ones."
   ]
  },
  {
   "cell_type": "code",
   "execution_count": 39,
   "metadata": {},
   "outputs": [],
   "source": [
    "y_train = y_train.values.ravel()\n",
    "\n",
    "rf = RandomForestRegressor().fit(X_train_prep, y_train)\n",
    "\n",
    "feature_importances = pd.DataFrame(rf.feature_importances_, index =X_train_prep.columns,columns=['importance']).sort_values('importance', ascending=False)\n",
    "feature_importances = feature_importances[feature_importances.importance > 0.005].index.tolist()\n",
    "\n",
    "X_train_sel = X_train_prep.loc[:,feature_importances]\n",
    "X_test_sel = X_test_prep.loc[:,feature_importances]"
   ]
  },
  {
   "cell_type": "markdown",
   "metadata": {},
   "source": [
    "It's interesting to see what featues were eliminated due to their low impact to the model.\n",
    "\n",
    "Wow! It seems that almost all topics and week day/month selection are not so significat in prediction of advertisement result. What plays the determing role is combination of price and ad coverage. "
   ]
  },
  {
   "cell_type": "code",
   "execution_count": 45,
   "metadata": {},
   "outputs": [
    {
     "name": "stdout",
     "output_type": "stream",
     "text": [
      "Features that were removed:\n",
      "['Auto', 'Business', 'Body-positivity', 'Beauty', 'Home', 'Another topic', 'Animals', 'Healthy lifestyle', 'Health', 'Languages', 'Books', 'LGBT', 'Lifestyle', 'Mothers', 'Fashion', 'Motivation', 'Music', 'Science', 'No topic', 'Photo Retouching', 'Education', 'Relationships', 'Right nutrition', 'Diets', 'Ecology', 'Productivity', 'Lawyer', 'Psychology', 'Travelling', 'Design and decor', 'Food', 'Handicraft', 'SMM', 'Garden', 'Self-development', 'Sex', 'Family', 'Social topics', 'Sport', 'Dancing', 'Art', 'Feminism', 'Movies', 'Esotericism', 'Humor', 'Designer', 'Renovation', 'PR', 'Shopping and style', 'Format_Пост + сторис', 'Format_Сторис', 'Format_Фото-пост', 'Month_2', 'Month_3', 'Month_4', 'Month_5', 'Month_6', 'Month_7', 'Month_8', 'Month_9', 'Month_12', 'Week day_1', 'Week day_2', 'Week day_3', 'Week day_4', 'Week day_5', 'Week day_6']\n",
      "\n",
      "Selected features:\n",
      "['Price per ad', 'Ad coverage', 'Month_10', 'Lifehacks', 'Life abroad', 'Month_11']\n"
     ]
    }
   ],
   "source": [
    "removed_features = [x for x in X_train_prep.columns.tolist() if x not in feature_importances]\n",
    "\n",
    "print('Features that were removed:')\n",
    "print(removed_features)\n",
    "\n",
    "print()\n",
    "\n",
    "print('Selected features:')\n",
    "print(feature_importances)"
   ]
  },
  {
   "cell_type": "markdown",
   "metadata": {},
   "source": [
    "## 2.5 REGRESSION  MODELS  &  APPLICATION"
   ]
  },
  {
   "cell_type": "markdown",
   "metadata": {},
   "source": [
    "I tried 3 modes that are not limited with assumptions to the data: polynomial regression, decission tree and random forrest. To evaluate each model I apply 2 metrics: RMSE (root mean squared error) and R-squared:\n",
    "\n",
    "- RMSE shows the absolute value of how much predictions deviate from the actual value. This metric should be used to compare models against each other, because by itself it doesn't give valuable information;\n",
    "\n",
    "- R-squared shows the percentage of the variance in the dependent variable that the independent variables explain collectively. This metric is used to evaluate model's goodness-of-fit."
   ]
  },
  {
   "cell_type": "markdown",
   "metadata": {},
   "source": [
    "**Polynomial regression**\n",
    "\n",
    "The quadretic model with L2 - regularization term produces sufficient results and tackles the problem of overfitting. I have trained models with various hyperparameter alpha, the best result was achieved with alpha equals 1000. "
   ]
  },
  {
   "cell_type": "code",
   "execution_count": 41,
   "metadata": {},
   "outputs": [],
   "source": [
    "polynomial_features= PolynomialFeatures(degree=2)\n",
    "X_train_poly = polynomial_features.fit_transform(X_train_sel)\n",
    "X_test_poly = polynomial_features.fit_transform(X_test_sel)"
   ]
  },
  {
   "cell_type": "code",
   "execution_count": 42,
   "metadata": {},
   "outputs": [
    {
     "name": "stdout",
     "output_type": "stream",
     "text": [
      "Best r^2 - score of 0.67 was achieved with alpha equals to 1000 .\n",
      "Mean squared error of this model is 1655.43.\n"
     ]
    }
   ],
   "source": [
    "alphas = [0.001, 0.01, 0.1, 1, 10, 100, 1000]\n",
    "\n",
    "ridge_test_scores = []\n",
    "\n",
    "for a in alphas:\n",
    "    model = Ridge(alpha = a)\n",
    "    model.fit(X_train_poly, y_train)\n",
    "    score = model.score(X_test_poly, y_test)\n",
    "    ridge_test_scores.append(score)\n",
    "    if score >= max(ridge_test_scores):\n",
    "        model_prediction = model.predict(X_test_poly)\n",
    "    \n",
    "\n",
    "best_alpha = max(ridge_test_scores)\n",
    "best_alpha_index = ridge_test_scores.index(best_alpha)\n",
    "\n",
    "print('Best r^2 - score of {:.2f} was achieved with alpha equals to {} .'.format(best_alpha, alphas[best_alpha_index]))\n",
    "\n",
    "print('Mean squared error of this model is {:.2f}.'.format(math.sqrt(mean_squared_error(y_test, model_prediction))))"
   ]
  },
  {
   "cell_type": "markdown",
   "metadata": {},
   "source": [
    "**Decission Tree**\n",
    "\n",
    "This models is intuitive and easy to explain, can handle nonlinear data and requires little data preparation. The hyperparameter to choose is maximum depth of the tree: the more complex the tree, the better model fits data. Nevertheless,  we should stop at some depth to avoid overfitting. I'he trained DT-model with depth from 1 to 20, best result was achieved with max depth equals 5."
   ]
  },
  {
   "cell_type": "code",
   "execution_count": 46,
   "metadata": {},
   "outputs": [
    {
     "name": "stdout",
     "output_type": "stream",
     "text": [
      "Best r^2 - score of 0.70 was achieved with 5-estimators.\n",
      "Mean squared error of this model is 1598.39.\n"
     ]
    }
   ],
   "source": [
    "depth = np.arange(1,20)\n",
    "\n",
    "tree_scores = []\n",
    "\n",
    "for i in depth:\n",
    "    tree = DecisionTreeRegressor(max_depth = i, random_state = 20)\n",
    "    tree.fit(X_train, y_train)\n",
    "    score = tree.score(X_test, y_test)\n",
    "    tree_scores.append(score)\n",
    "    if score >= max(tree_scores):\n",
    "        tree_prediction = tree.predict(X_test)\n",
    "    \n",
    "\n",
    "best_tree = max(tree_scores)\n",
    "best_tree_index = tree_scores.index(best_tree)\n",
    "\n",
    "print('Best r^2 - score of {:.2f} was achieved with {}-estimators.'.format(best_tree, depth[best_tree_index]))\n",
    "print('Mean squared error of this model is {:.2f}.'.format(math.sqrt(mean_squared_error(y_test, tree_prediction))))"
   ]
  },
  {
   "cell_type": "markdown",
   "metadata": {},
   "source": [
    "**Random forrest**\n",
    "\n",
    "Random forrest is an ensemble method  that uses n-number of decision trees to train them on n-number of data sebsets. As I have already found out that the best maximum depth of a single decision tree is 5, the only hyperparameter to chose is amount of estimators. I've trained the model with 100, 200, 300, 400 and 500 estimators, and the best result was achieved with 500 estimators."
   ]
  },
  {
   "cell_type": "code",
   "execution_count": 43,
   "metadata": {},
   "outputs": [
    {
     "name": "stdout",
     "output_type": "stream",
     "text": [
      "Best r^2 - score of 0.72 was achieved with 500-estimators.\n",
      "Mean squared error of this model is 1539.95.\n"
     ]
    }
   ],
   "source": [
    "n_estimators = [100,200,300,400,500]\n",
    "scores_test = []\n",
    "\n",
    "for i in n_estimators:\n",
    "    regressor = RandomForestRegressor(n_estimators = i, max_depth = 5, random_state = 20)\n",
    "    regressor.fit(X_train_sel, y_train)\n",
    "    score = regressor.score(X_test_sel, y_test)\n",
    "    scores_test.append(score)\n",
    "    if score >= max(scores_test):\n",
    "        regressor_prediction = regressor.predict(X_test_sel)\n",
    "  \n",
    "\n",
    "best_estimator = max(scores_test)\n",
    "best_estimator_index = scores_test.index(best_estimator)\n",
    "\n",
    "print('Best r^2 - score of {:.2f} was achieved with {}-estimators.'.format(best_estimator, n_estimators[best_estimator_index]))\n",
    "print('Mean squared error of this model is {:.2f}.'.format(math.sqrt(mean_squared_error(y_test, regressor_prediction))))\n",
    "\n"
   ]
  },
  {
   "cell_type": "markdown",
   "metadata": {},
   "source": [
    "**Final Model & Function**\n",
    "\n",
    "As you can see, the model that fits best to the data is Random Forrest Regressor with 500 trees and maximum depth of 5 each."
   ]
  },
  {
   "cell_type": "code",
   "execution_count": 50,
   "metadata": {},
   "outputs": [],
   "source": [
    "MODEL = RandomForestRegressor(n_estimators = 500, max_depth = 5, random_state = 20) \n",
    "MODEL.fit(X_train_sel, y_train)\n",
    "\n",
    "\n",
    "\n",
    "def predict_subscribers(date = '01.01.2021', price = 100, ad_coverage = 1000, *topics):\n",
    "    df  = pd.DataFrame(0, index=range(1), columns = X_test_sel.columns)\n",
    "    #numerical columns\n",
    "    df['Ad coverage'] = ad_coverage\n",
    "    df['Price per ad'] = price\n",
    "    \n",
    "    df[['Price per ad','Ad coverage']] = rs.transform(df[['Price per ad','Ad coverage']])\n",
    "    \n",
    "    #date columns\n",
    "    datetime = pd.to_datetime(date, format = '%d.%m.%Y')\n",
    "    month = datetime.month\n",
    "    week_day = datetime.weekday()\n",
    "    str_1 = 'Week day_'+ str(week_day)\n",
    "    str_2 = 'Month_' + str(month)\n",
    "    df[df.filter(like = str_1).columns] = 1\n",
    "    df[df.filter(like = str_2).columns] = 1\n",
    "    \n",
    "    #topics' columns\n",
    "    for i in topics:\n",
    "        df[df.filter(like = i).columns] = 1\n",
    "    \n",
    "    prediction = MODEL.predict(df)\n",
    "    \n",
    "    return np.round(prediction) \n",
    "    \n",
    "    \n"
   ]
  },
  {
   "cell_type": "code",
   "execution_count": 52,
   "metadata": {},
   "outputs": [
    {
     "data": {
      "text/plain": [
       "array([365.])"
      ]
     },
     "execution_count": 52,
     "metadata": {},
     "output_type": "execute_result"
    }
   ],
   "source": [
    "predict_subscribers('01.06.2021', 2500 , 3600, 'Travelling')    "
   ]
  },
  {
   "cell_type": "markdown",
   "metadata": {},
   "source": [
    "For instance, if I take an advertisement in the blog @chokonatta with following parameters:\n",
    "\n",
    "- date = 01.06.2021 - tuesday\n",
    "\n",
    "- price = 2500;\n",
    "\n",
    "- ad_coverage (based on current statistics of blogger) = 3600;\n",
    "\n",
    "- topics = Travelling;\n",
    "\n",
    "approximate amount of new subscribers is 365."
   ]
  }
 ],
 "metadata": {
  "hide_input": false,
  "kernelspec": {
   "display_name": "Python 3",
   "language": "python",
   "name": "python3"
  },
  "language_info": {
   "codemirror_mode": {
    "name": "ipython",
    "version": 3
   },
   "file_extension": ".py",
   "mimetype": "text/x-python",
   "name": "python",
   "nbconvert_exporter": "python",
   "pygments_lexer": "ipython3",
   "version": "3.8.3"
  }
 },
 "nbformat": 4,
 "nbformat_minor": 4
}
